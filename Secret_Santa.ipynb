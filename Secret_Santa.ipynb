{
  "nbformat": 4,
  "nbformat_minor": 0,
  "metadata": {
    "colab": {
      "name": "Secret-Santa.ipynb",
      "provenance": []
    },
    "kernelspec": {
      "name": "python3",
      "display_name": "Python 3"
    },
    "language_info": {
      "name": "python"
    }
  },
  "cells": [
    {
      "cell_type": "code",
      "metadata": {
        "id": "huaVNBLk-q6m"
      },
      "source": [
        "! unzip \"/content/BozeNarodzenie2021.csv.zip\""
      ],
      "execution_count": null,
      "outputs": []
    },
    {
      "cell_type": "code",
      "metadata": {
        "id": "ztT0FL4p_CIb"
      },
      "source": [
        "import pandas as pd\n",
        "import random"
      ],
      "execution_count": null,
      "outputs": []
    },
    {
      "cell_type": "code",
      "metadata": {
        "id": "Aveak5ZA-zlX"
      },
      "source": [
        "df = pd.read_csv(\"/content/BożeNarodzenie2021.csv.zip\")"
      ],
      "execution_count": null,
      "outputs": []
    },
    {
      "cell_type": "code",
      "metadata": {
        "id": "F0vD6xkb_PGv"
      },
      "source": [
        "participants = df.iloc[:,1].tolist()\n",
        "drawn  = participants.copy()"
      ],
      "execution_count": null,
      "outputs": []
    },
    {
      "cell_type": "code",
      "metadata": {
        "id": "gL-KFYhhGzuG"
      },
      "source": [
        "df['presents'] = df[df.columns[2:]].apply(lambda x: ' OR: '.join(x.dropna('').astype(str)), axis=1)"
      ],
      "execution_count": null,
      "outputs": []
    },
    {
      "cell_type": "code",
      "metadata": {
        "id": "bNL4tyZK_y7g"
      },
      "source": [
        "presents = dict(zip(df.iloc[:,1], df.iloc[:,5]))"
      ],
      "execution_count": null,
      "outputs": []
    },
    {
      "cell_type": "code",
      "metadata": {
        "id": "eFz8idikT2qC"
      },
      "source": [
        "while len(drawn) != 0:\n",
        "  participant = random.choice(participants)\n",
        "  winner = random.choice(drawn)\n",
        "  present = presents.get(winner)\n",
        "  if winner == participant:\n",
        "    winner = random.choice(drawn)\n",
        "  else:\n",
        "    print(f'{participant} will give a gift to the person named {winner} this holiday season. This persons dream gift is {present}.')\n",
        "    participants.remove(participant)\n",
        "    drawn.remove(winner)"
      ],
      "execution_count": null,
      "outputs": []
    }
  ]
}